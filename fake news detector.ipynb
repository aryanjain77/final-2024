{
 "cells": [
  {
   "cell_type": "code",
   "execution_count": 3,
   "id": "7364d15d-8aa6-42a1-8ae5-f78dcc2ed846",
   "metadata": {},
   "outputs": [],
   "source": [
    "import numpy as np\n",
    "import pandas as pd\n",
    "import re\n",
    "from nltk.corpus import stopwords\n",
    "from nltk.stem.porter import PorterStemmer\n",
    "from sklearn.feature_extraction.text import TfidfVectorizer\n",
    "from sklearn.model_selection import train_test_split\n",
    "from sklearn.linear_model import LogisticRegression\n",
    "from sklearn.metrics import accuracy_score"
   ]
  },
  {
   "cell_type": "code",
   "execution_count": null,
   "id": "a1b26efd-6261-4e87-a0f7-5fdbbf7372c2",
   "metadata": {},
   "outputs": [],
   "source": []
  },
  {
   "cell_type": "code",
   "execution_count": null,
   "id": "05c47f0d-0620-4079-b02c-29ba04eef468",
   "metadata": {},
   "outputs": [],
   "source": []
  },
  {
   "cell_type": "code",
   "execution_count": null,
   "id": "31725d1b-f051-4d3d-92a0-252ee7eb1417",
   "metadata": {},
   "outputs": [],
   "source": []
  },
  {
   "cell_type": "code",
   "execution_count": null,
   "id": "86fc65fb-ab63-4704-8224-1b80f8635302",
   "metadata": {},
   "outputs": [],
   "source": []
  },
  {
   "cell_type": "code",
   "execution_count": 4,
   "id": "05be03c4-8129-4004-ae24-1d8501246c69",
   "metadata": {},
   "outputs": [
    {
     "name": "stdout",
     "output_type": "stream",
     "text": [
      "Requirement already satisfied: nltk in c:\\users\\ranjana\\anaconda3\\envs\\smartphone_prices\\lib\\site-packages (3.8.1)\n",
      "Requirement already satisfied: click in c:\\users\\ranjana\\anaconda3\\envs\\smartphone_prices\\lib\\site-packages (from nltk) (8.1.7)\n",
      "Requirement already satisfied: joblib in c:\\users\\ranjana\\anaconda3\\envs\\smartphone_prices\\lib\\site-packages (from nltk) (1.2.0)\n",
      "Requirement already satisfied: regex>=2021.8.3 in c:\\users\\ranjana\\anaconda3\\envs\\smartphone_prices\\lib\\site-packages (from nltk) (2023.10.3)\n",
      "Requirement already satisfied: tqdm in c:\\users\\ranjana\\anaconda3\\envs\\smartphone_prices\\lib\\site-packages (from nltk) (4.65.0)\n",
      "Requirement already satisfied: colorama in c:\\users\\ranjana\\anaconda3\\envs\\smartphone_prices\\lib\\site-packages (from click->nltk) (0.4.6)\n"
     ]
    }
   ],
   "source": [
    "!pip install nltk"
   ]
  },
  {
   "cell_type": "code",
   "execution_count": 5,
   "id": "8c646c2e-20d7-4da0-ae7d-645c39daaa7b",
   "metadata": {},
   "outputs": [
    {
     "name": "stderr",
     "output_type": "stream",
     "text": [
      "[nltk_data] Downloading package stopwords to\n",
      "[nltk_data]     C:\\Users\\RANJANA\\AppData\\Roaming\\nltk_data...\n",
      "[nltk_data]   Package stopwords is already up-to-date!\n"
     ]
    },
    {
     "data": {
      "text/plain": [
       "True"
      ]
     },
     "execution_count": 5,
     "metadata": {},
     "output_type": "execute_result"
    }
   ],
   "source": [
    "import nltk\n",
    "nltk.download('stopwords')"
   ]
  },
  {
   "cell_type": "code",
   "execution_count": 6,
   "id": "04a27bd4-6e79-4da7-85d0-de53e78c850d",
   "metadata": {},
   "outputs": [
    {
     "name": "stdout",
     "output_type": "stream",
     "text": [
      "['i', 'me', 'my', 'myself', 'we', 'our', 'ours', 'ourselves', 'you', \"you're\", \"you've\", \"you'll\", \"you'd\", 'your', 'yours', 'yourself', 'yourselves', 'he', 'him', 'his', 'himself', 'she', \"she's\", 'her', 'hers', 'herself', 'it', \"it's\", 'its', 'itself', 'they', 'them', 'their', 'theirs', 'themselves', 'what', 'which', 'who', 'whom', 'this', 'that', \"that'll\", 'these', 'those', 'am', 'is', 'are', 'was', 'were', 'be', 'been', 'being', 'have', 'has', 'had', 'having', 'do', 'does', 'did', 'doing', 'a', 'an', 'the', 'and', 'but', 'if', 'or', 'because', 'as', 'until', 'while', 'of', 'at', 'by', 'for', 'with', 'about', 'against', 'between', 'into', 'through', 'during', 'before', 'after', 'above', 'below', 'to', 'from', 'up', 'down', 'in', 'out', 'on', 'off', 'over', 'under', 'again', 'further', 'then', 'once', 'here', 'there', 'when', 'where', 'why', 'how', 'all', 'any', 'both', 'each', 'few', 'more', 'most', 'other', 'some', 'such', 'no', 'nor', 'not', 'only', 'own', 'same', 'so', 'than', 'too', 'very', 's', 't', 'can', 'will', 'just', 'don', \"don't\", 'should', \"should've\", 'now', 'd', 'll', 'm', 'o', 're', 've', 'y', 'ain', 'aren', \"aren't\", 'couldn', \"couldn't\", 'didn', \"didn't\", 'doesn', \"doesn't\", 'hadn', \"hadn't\", 'hasn', \"hasn't\", 'haven', \"haven't\", 'isn', \"isn't\", 'ma', 'mightn', \"mightn't\", 'mustn', \"mustn't\", 'needn', \"needn't\", 'shan', \"shan't\", 'shouldn', \"shouldn't\", 'wasn', \"wasn't\", 'weren', \"weren't\", 'won', \"won't\", 'wouldn', \"wouldn't\"]\n"
     ]
    }
   ],
   "source": [
    "print(stopwords.words('english'))"
   ]
  },
  {
   "cell_type": "code",
   "execution_count": null,
   "id": "7f0acb76-0227-478a-8f08-ae569a705371",
   "metadata": {},
   "outputs": [],
   "source": []
  },
  {
   "cell_type": "code",
   "execution_count": null,
   "id": "71aede98-c8a7-49af-aec9-1d12b8190e61",
   "metadata": {},
   "outputs": [],
   "source": []
  },
  {
   "cell_type": "code",
   "execution_count": 7,
   "id": "59b5e626-55e6-45be-be91-2a10089b3097",
   "metadata": {},
   "outputs": [],
   "source": [
    "news_dataset = pd.read_csv('train.csv')"
   ]
  },
  {
   "cell_type": "code",
   "execution_count": 8,
   "id": "78ea7059-82ad-4efa-87aa-ec436ae09443",
   "metadata": {},
   "outputs": [
    {
     "name": "stdout",
     "output_type": "stream",
     "text": [
      "id         int64\n",
      "title     object\n",
      "author    object\n",
      "text      object\n",
      "labels     int64\n",
      "dtype: object\n"
     ]
    }
   ],
   "source": [
    "data_type = news_dataset.dtypes\n",
    "print(data_type)"
   ]
  },
  {
   "cell_type": "code",
   "execution_count": 26,
   "id": "f527843a-424c-4bd3-b3f1-d3bfe6942aac",
   "metadata": {},
   "outputs": [
    {
     "data": {
      "text/plain": [
       "(5200, 5)"
      ]
     },
     "execution_count": 26,
     "metadata": {},
     "output_type": "execute_result"
    }
   ],
   "source": [
    "news_dataset.shape"
   ]
  },
  {
   "cell_type": "code",
   "execution_count": 27,
   "id": "0f8efbec-b8e0-4b77-9397-68e69ab3daf5",
   "metadata": {},
   "outputs": [
    {
     "data": {
      "text/plain": [
       "id          0\n",
       "title     122\n",
       "author    503\n",
       "text        7\n",
       "labels      0\n",
       "dtype: int64"
      ]
     },
     "execution_count": 27,
     "metadata": {},
     "output_type": "execute_result"
    }
   ],
   "source": [
    "news_dataset.isnull().sum()"
   ]
  },
  {
   "cell_type": "code",
   "execution_count": 28,
   "id": "95e3e145-8e41-4071-aa4c-8c0d48d6945b",
   "metadata": {},
   "outputs": [],
   "source": [
    "# replacing the null values with empty string\n",
    "news_dataset = news_dataset.fillna('')"
   ]
  },
  {
   "cell_type": "code",
   "execution_count": 29,
   "id": "521f596a-e46e-420d-a7ed-c102cfee4b01",
   "metadata": {},
   "outputs": [],
   "source": [
    "# merging the author name and news title\n",
    "news_dataset['content'] = news_dataset['author']+' '+news_dataset['title']"
   ]
  },
  {
   "cell_type": "code",
   "execution_count": 30,
   "id": "d214825b-9fca-4839-8df2-1ceddd21964e",
   "metadata": {},
   "outputs": [
    {
     "name": "stdout",
     "output_type": "stream",
     "text": [
      "0       David Streitfeld Specter of Trump Loosens Tong...\n",
      "1        Russian warships ready to strike terrorists n...\n",
      "2       Common Dreams #NoDAPL: Native American Leaders...\n",
      "3       Daniel Victor Tim Tebow Will Attempt Another C...\n",
      "4       Truth Broadcast Network Keiser Report: Meme Wa...\n",
      "                              ...                        \n",
      "5195    Jody Rosen The Bangladeshi Traffic Jam That Ne...\n",
      "5196    Sheryl Gay Stolberg John Kasich Signs One Abor...\n",
      "5197    Mike McPhate California Today: What, Exactly, ...\n",
      "5198     300 US Marines To Be Deployed To Russian Bord...\n",
      "5199    Teddy Wayne Awkward Sex, Onscreen and Off - Th...\n",
      "Name: content, Length: 5200, dtype: object\n"
     ]
    }
   ],
   "source": [
    "print(news_dataset['content'])"
   ]
  },
  {
   "cell_type": "code",
   "execution_count": 32,
   "id": "3a12ccb3-5d58-46d5-93a0-5218faa649e2",
   "metadata": {},
   "outputs": [],
   "source": [
    "# separating the data & label\n",
    "X = news_dataset.drop(columns='labels', axis=1)\n",
    "Y = news_dataset['labels']"
   ]
  },
  {
   "cell_type": "code",
   "execution_count": 33,
   "id": "fbb7aed4-1612-4c0b-964f-bca9008e3cda",
   "metadata": {},
   "outputs": [
    {
     "name": "stdout",
     "output_type": "stream",
     "text": [
      "         id                                              title  \\\n",
      "0     20800  Specter of Trump Loosens Tongues, if Not Purse...   \n",
      "1     20801  Russian warships ready to strike terrorists ne...   \n",
      "2     20802  #NoDAPL: Native American Leaders Vow to Stay A...   \n",
      "3     20803  Tim Tebow Will Attempt Another Comeback, This ...   \n",
      "4     20804                    Keiser Report: Meme Wars (E995)   \n",
      "...     ...                                                ...   \n",
      "5195  25995  The Bangladeshi Traffic Jam That Never Ends - ...   \n",
      "5196  25996  John Kasich Signs One Abortion Bill in Ohio bu...   \n",
      "5197  25997  California Today: What, Exactly, Is in Your Su...   \n",
      "5198  25998  300 US Marines To Be Deployed To Russian Borde...   \n",
      "5199  25999  Awkward Sex, Onscreen and Off - The New York T...   \n",
      "\n",
      "                       author  \\\n",
      "0            David Streitfeld   \n",
      "1                               \n",
      "2               Common Dreams   \n",
      "3               Daniel Victor   \n",
      "4     Truth Broadcast Network   \n",
      "...                       ...   \n",
      "5195               Jody Rosen   \n",
      "5196      Sheryl Gay Stolberg   \n",
      "5197             Mike McPhate   \n",
      "5198                            \n",
      "5199              Teddy Wayne   \n",
      "\n",
      "                                                   text  \\\n",
      "0     PALO ALTO, Calif.  —   After years of scorning...   \n",
      "1     Russian warships ready to strike terrorists ne...   \n",
      "2     Videos #NoDAPL: Native American Leaders Vow to...   \n",
      "3     If at first you don’t succeed, try a different...   \n",
      "4     42 mins ago 1 Views 0 Comments 0 Likes 'For th...   \n",
      "...                                                 ...   \n",
      "5195  Of all the dysfunctions that plague the world’...   \n",
      "5196  WASHINGTON  —   Gov. John Kasich of Ohio on Tu...   \n",
      "5197  Good morning. (Want to get California Today by...   \n",
      "5198  « Previous - Next » 300 US Marines To Be Deplo...   \n",
      "5199  Perhaps you’ve seen the new TV series whose pi...   \n",
      "\n",
      "                                                content  \n",
      "0     David Streitfeld Specter of Trump Loosens Tong...  \n",
      "1      Russian warships ready to strike terrorists n...  \n",
      "2     Common Dreams #NoDAPL: Native American Leaders...  \n",
      "3     Daniel Victor Tim Tebow Will Attempt Another C...  \n",
      "4     Truth Broadcast Network Keiser Report: Meme Wa...  \n",
      "...                                                 ...  \n",
      "5195  Jody Rosen The Bangladeshi Traffic Jam That Ne...  \n",
      "5196  Sheryl Gay Stolberg John Kasich Signs One Abor...  \n",
      "5197  Mike McPhate California Today: What, Exactly, ...  \n",
      "5198   300 US Marines To Be Deployed To Russian Bord...  \n",
      "5199  Teddy Wayne Awkward Sex, Onscreen and Off - Th...  \n",
      "\n",
      "[5200 rows x 5 columns]\n",
      "0       1\n",
      "1       0\n",
      "2       1\n",
      "3       0\n",
      "4       1\n",
      "       ..\n",
      "5195    0\n",
      "5196    1\n",
      "5197    0\n",
      "5198    0\n",
      "5199    1\n",
      "Name: labels, Length: 5200, dtype: int64\n"
     ]
    }
   ],
   "source": [
    "print(X)\n",
    "print(Y)"
   ]
  },
  {
   "cell_type": "code",
   "execution_count": 34,
   "id": "6494fc44-00bb-46ea-a93c-d93f0c41bc64",
   "metadata": {},
   "outputs": [],
   "source": [
    "port_stem = PorterStemmer()"
   ]
  },
  {
   "cell_type": "code",
   "execution_count": 35,
   "id": "12276671-2569-4daa-9206-f6afee7a0757",
   "metadata": {},
   "outputs": [],
   "source": [
    "def stemming(content):\n",
    "    stemmed_content = re.sub('[^a-zA-Z]',' ',content)\n",
    "    stemmed_content = stemmed_content.lower()\n",
    "    stemmed_content = stemmed_content.split()\n",
    "    stemmed_content = [port_stem.stem(word) for word in stemmed_content if not word in stopwords.words('english')]\n",
    "    stemmed_content = ' '.join(stemmed_content)\n",
    "    return stemmed_content"
   ]
  },
  {
   "cell_type": "code",
   "execution_count": 36,
   "id": "474fb7ff-78a7-4987-a68a-17bac7ff3f78",
   "metadata": {},
   "outputs": [],
   "source": [
    "news_dataset['content'] = news_dataset['content'].apply(stemming)"
   ]
  },
  {
   "cell_type": "code",
   "execution_count": 38,
   "id": "46edbe11-e64e-4c0b-b584-b5f1668d3da5",
   "metadata": {},
   "outputs": [],
   "source": [
    "#separating the data and label\n",
    "X = news_dataset['content'].values\n",
    "Y = news_dataset['labels'].values"
   ]
  },
  {
   "cell_type": "code",
   "execution_count": 39,
   "id": "a60fda74-488d-4947-9972-db89b437f08e",
   "metadata": {},
   "outputs": [
    {
     "name": "stdout",
     "output_type": "stream",
     "text": [
      "['david streitfeld specter trump loosen tongu purs string silicon valley new york time'\n",
      " 'russian warship readi strike terrorist near aleppo'\n",
      " 'common dream nodapl nativ american leader vow stay winter file lawsuit polic'\n",
      " ... 'mike mcphate california today exactli sushi new york time'\n",
      " 'us marin deploy russian border norway'\n",
      " 'teddi wayn awkward sex onscreen new york time']\n"
     ]
    }
   ],
   "source": [
    "print(X)"
   ]
  },
  {
   "cell_type": "code",
   "execution_count": 40,
   "id": "4908c5d2-a96a-45b8-82e1-0fac00e09aeb",
   "metadata": {},
   "outputs": [
    {
     "name": "stdout",
     "output_type": "stream",
     "text": [
      "[1 0 1 ... 0 0 1]\n"
     ]
    }
   ],
   "source": [
    "print(Y)"
   ]
  },
  {
   "cell_type": "code",
   "execution_count": 41,
   "id": "2f72836f-d1aa-4f09-89f7-925952c25fbc",
   "metadata": {},
   "outputs": [
    {
     "data": {
      "text/plain": [
       "(5200,)"
      ]
     },
     "execution_count": 41,
     "metadata": {},
     "output_type": "execute_result"
    }
   ],
   "source": [
    "Y.shape"
   ]
  },
  {
   "cell_type": "code",
   "execution_count": 42,
   "id": "982d7543-dfa2-4091-8fdc-8b912f2ad7ea",
   "metadata": {},
   "outputs": [],
   "source": [
    "# converting the textual data to numerical data\n",
    "vectorizer = TfidfVectorizer()\n",
    "vectorizer.fit(X)\n",
    "\n",
    "X = vectorizer.transform(X)"
   ]
  },
  {
   "cell_type": "code",
   "execution_count": 43,
   "id": "485ddad4-eb14-4f6d-bdc6-3f04eae485bf",
   "metadata": {
    "scrolled": true
   },
   "outputs": [
    {
     "name": "stdout",
     "output_type": "stream",
     "text": [
      "  (0, 9086)\t0.08756899768504829\n",
      "  (0, 8618)\t0.2951833364547817\n",
      "  (0, 8391)\t0.11042633230471807\n",
      "  (0, 8258)\t0.35551158241433845\n",
      "  (0, 8217)\t0.08565162006825207\n",
      "  (0, 7825)\t0.35551158241433845\n",
      "  (0, 7815)\t0.3392484573767603\n",
      "  (0, 7632)\t0.35551158241433845\n",
      "  (0, 7416)\t0.29990759064553757\n",
      "  (0, 6435)\t0.35551158241433845\n",
      "  (0, 5528)\t0.0847731814904578\n",
      "  (0, 4746)\t0.35551158241433845\n",
      "  (0, 1960)\t0.20372848702181867\n",
      "  (1, 8826)\t0.4600630644689105\n",
      "  (1, 8135)\t0.35260162515090443\n",
      "  (1, 7823)\t0.36689240142839846\n",
      "  (1, 6999)\t0.30028557064663775\n",
      "  (1, 6583)\t0.40045820302192875\n",
      "  (1, 5485)\t0.37981022352550325\n",
      "  (1, 186)\t0.36689240142839846\n",
      "  (2, 8964)\t0.295064720779198\n",
      "  (2, 8765)\t0.28434502467517675\n",
      "  (2, 7741)\t0.2982257606996168\n",
      "  (2, 6196)\t0.2207192031076798\n",
      "  (2, 5596)\t0.3312058036253688\n",
      "  :\t:\n",
      "  (5196, 795)\t0.21762533251043967\n",
      "  (5196, 24)\t0.2798172726761391\n",
      "  (5197, 9086)\t0.12439214769277508\n",
      "  (5197, 8237)\t0.3546424451054057\n",
      "  (5197, 8217)\t0.1216685043258708\n",
      "  (5197, 7942)\t0.46551291399479516\n",
      "  (5197, 5528)\t0.1204206784491716\n",
      "  (5197, 5169)\t0.30754148256904756\n",
      "  (5197, 5054)\t0.38652719828192134\n",
      "  (5197, 2712)\t0.5050057718512321\n",
      "  (5197, 1136)\t0.3372429743783571\n",
      "  (5198, 8583)\t0.29069086057377247\n",
      "  (5198, 6999)\t0.32923613881897235\n",
      "  (5198, 5620)\t0.5044178001386894\n",
      "  (5198, 4949)\t0.4437701626349226\n",
      "  (5198, 2084)\t0.4671101647691223\n",
      "  (5198, 908)\t0.37086548518571644\n",
      "  (5199, 9086)\t0.11729220744702278\n",
      "  (5199, 8843)\t0.4171595420263707\n",
      "  (5199, 8217)\t0.11472402168346756\n",
      "  (5199, 8092)\t0.47618151830783884\n",
      "  (5199, 7276)\t0.3552328519670439\n",
      "  (5199, 5743)\t0.47618151830783884\n",
      "  (5199, 5528)\t0.11354741806095396\n",
      "  (5199, 543)\t0.4543982629769378\n"
     ]
    }
   ],
   "source": [
    "print(X)"
   ]
  },
  {
   "cell_type": "code",
   "execution_count": 44,
   "id": "dd559ab7-b49b-42d9-a79d-b1ce77afe744",
   "metadata": {},
   "outputs": [],
   "source": [
    "X_train, X_test, Y_train, Y_test = train_test_split(X, Y, test_size = 0.2, stratify=Y, random_state=2)"
   ]
  },
  {
   "cell_type": "code",
   "execution_count": 45,
   "id": "099dd53b-6fc6-4aa1-a7b7-915e1d2361a1",
   "metadata": {},
   "outputs": [],
   "source": [
    "model = LogisticRegression()"
   ]
  },
  {
   "cell_type": "code",
   "execution_count": 46,
   "id": "53087b5c-b06a-4689-b8f8-b9066c44de25",
   "metadata": {},
   "outputs": [
    {
     "data": {
      "text/html": [
       "<style>#sk-container-id-1 {color: black;background-color: white;}#sk-container-id-1 pre{padding: 0;}#sk-container-id-1 div.sk-toggleable {background-color: white;}#sk-container-id-1 label.sk-toggleable__label {cursor: pointer;display: block;width: 100%;margin-bottom: 0;padding: 0.3em;box-sizing: border-box;text-align: center;}#sk-container-id-1 label.sk-toggleable__label-arrow:before {content: \"▸\";float: left;margin-right: 0.25em;color: #696969;}#sk-container-id-1 label.sk-toggleable__label-arrow:hover:before {color: black;}#sk-container-id-1 div.sk-estimator:hover label.sk-toggleable__label-arrow:before {color: black;}#sk-container-id-1 div.sk-toggleable__content {max-height: 0;max-width: 0;overflow: hidden;text-align: left;background-color: #f0f8ff;}#sk-container-id-1 div.sk-toggleable__content pre {margin: 0.2em;color: black;border-radius: 0.25em;background-color: #f0f8ff;}#sk-container-id-1 input.sk-toggleable__control:checked~div.sk-toggleable__content {max-height: 200px;max-width: 100%;overflow: auto;}#sk-container-id-1 input.sk-toggleable__control:checked~label.sk-toggleable__label-arrow:before {content: \"▾\";}#sk-container-id-1 div.sk-estimator input.sk-toggleable__control:checked~label.sk-toggleable__label {background-color: #d4ebff;}#sk-container-id-1 div.sk-label input.sk-toggleable__control:checked~label.sk-toggleable__label {background-color: #d4ebff;}#sk-container-id-1 input.sk-hidden--visually {border: 0;clip: rect(1px 1px 1px 1px);clip: rect(1px, 1px, 1px, 1px);height: 1px;margin: -1px;overflow: hidden;padding: 0;position: absolute;width: 1px;}#sk-container-id-1 div.sk-estimator {font-family: monospace;background-color: #f0f8ff;border: 1px dotted black;border-radius: 0.25em;box-sizing: border-box;margin-bottom: 0.5em;}#sk-container-id-1 div.sk-estimator:hover {background-color: #d4ebff;}#sk-container-id-1 div.sk-parallel-item::after {content: \"\";width: 100%;border-bottom: 1px solid gray;flex-grow: 1;}#sk-container-id-1 div.sk-label:hover label.sk-toggleable__label {background-color: #d4ebff;}#sk-container-id-1 div.sk-serial::before {content: \"\";position: absolute;border-left: 1px solid gray;box-sizing: border-box;top: 0;bottom: 0;left: 50%;z-index: 0;}#sk-container-id-1 div.sk-serial {display: flex;flex-direction: column;align-items: center;background-color: white;padding-right: 0.2em;padding-left: 0.2em;position: relative;}#sk-container-id-1 div.sk-item {position: relative;z-index: 1;}#sk-container-id-1 div.sk-parallel {display: flex;align-items: stretch;justify-content: center;background-color: white;position: relative;}#sk-container-id-1 div.sk-item::before, #sk-container-id-1 div.sk-parallel-item::before {content: \"\";position: absolute;border-left: 1px solid gray;box-sizing: border-box;top: 0;bottom: 0;left: 50%;z-index: -1;}#sk-container-id-1 div.sk-parallel-item {display: flex;flex-direction: column;z-index: 1;position: relative;background-color: white;}#sk-container-id-1 div.sk-parallel-item:first-child::after {align-self: flex-end;width: 50%;}#sk-container-id-1 div.sk-parallel-item:last-child::after {align-self: flex-start;width: 50%;}#sk-container-id-1 div.sk-parallel-item:only-child::after {width: 0;}#sk-container-id-1 div.sk-dashed-wrapped {border: 1px dashed gray;margin: 0 0.4em 0.5em 0.4em;box-sizing: border-box;padding-bottom: 0.4em;background-color: white;}#sk-container-id-1 div.sk-label label {font-family: monospace;font-weight: bold;display: inline-block;line-height: 1.2em;}#sk-container-id-1 div.sk-label-container {text-align: center;}#sk-container-id-1 div.sk-container {/* jupyter's `normalize.less` sets `[hidden] { display: none; }` but bootstrap.min.css set `[hidden] { display: none !important; }` so we also need the `!important` here to be able to override the default hidden behavior on the sphinx rendered scikit-learn.org. See: https://github.com/scikit-learn/scikit-learn/issues/21755 */display: inline-block !important;position: relative;}#sk-container-id-1 div.sk-text-repr-fallback {display: none;}</style><div id=\"sk-container-id-1\" class=\"sk-top-container\"><div class=\"sk-text-repr-fallback\"><pre>LogisticRegression()</pre><b>In a Jupyter environment, please rerun this cell to show the HTML representation or trust the notebook. <br />On GitHub, the HTML representation is unable to render, please try loading this page with nbviewer.org.</b></div><div class=\"sk-container\" hidden><div class=\"sk-item\"><div class=\"sk-estimator sk-toggleable\"><input class=\"sk-toggleable__control sk-hidden--visually\" id=\"sk-estimator-id-1\" type=\"checkbox\" checked><label for=\"sk-estimator-id-1\" class=\"sk-toggleable__label sk-toggleable__label-arrow\">LogisticRegression</label><div class=\"sk-toggleable__content\"><pre>LogisticRegression()</pre></div></div></div></div></div>"
      ],
      "text/plain": [
       "LogisticRegression()"
      ]
     },
     "execution_count": 46,
     "metadata": {},
     "output_type": "execute_result"
    }
   ],
   "source": [
    "model.fit(X_train, Y_train)"
   ]
  },
  {
   "cell_type": "code",
   "execution_count": 47,
   "id": "c56f3d3b-4c37-4bda-939b-78e63358831b",
   "metadata": {},
   "outputs": [],
   "source": [
    "# accuracy score on the training data\n",
    "X_train_prediction = model.predict(X_train)\n",
    "training_data_accuracy = accuracy_score(X_train_prediction, Y_train)"
   ]
  },
  {
   "cell_type": "code",
   "execution_count": 48,
   "id": "6e266edc-1f91-4156-a90f-299422022790",
   "metadata": {},
   "outputs": [
    {
     "name": "stdout",
     "output_type": "stream",
     "text": [
      "Accuracy score of the training data :  0.8783653846153846\n"
     ]
    }
   ],
   "source": [
    "print('Accuracy score of the training data : ', training_data_accuracy)"
   ]
  },
  {
   "cell_type": "code",
   "execution_count": 49,
   "id": "629f6789-94f1-43fb-bbeb-baa66fe81022",
   "metadata": {},
   "outputs": [],
   "source": [
    "# accuracy score on the test data\n",
    "X_test_prediction = model.predict(X_test)\n",
    "test_data_accuracy = accuracy_score(X_test_prediction, Y_test)"
   ]
  },
  {
   "cell_type": "code",
   "execution_count": 50,
   "id": "9bdabc5d-5407-450d-86ec-88c5e7b620e2",
   "metadata": {},
   "outputs": [
    {
     "name": "stdout",
     "output_type": "stream",
     "text": [
      "Accuracy score of the test data :  0.4913461538461538\n"
     ]
    }
   ],
   "source": [
    "print('Accuracy score of the test data : ', test_data_accuracy)"
   ]
  },
  {
   "cell_type": "code",
   "execution_count": 69,
   "id": "c385ebfd-065e-413a-851e-89a68e4f3193",
   "metadata": {},
   "outputs": [
    {
     "name": "stdout",
     "output_type": "stream",
     "text": [
      "[0]\n",
      "The news is Real\n"
     ]
    }
   ],
   "source": [
    "X_new = X_test[3]\n",
    "\n",
    "prediction = model.predict(X_new)\n",
    "print(prediction)\n",
    "\n",
    "if (prediction[0]==0):\n",
    "  print('The news is Real')\n",
    "else:\n",
    "  print('The news is Fake')"
   ]
  },
  {
   "cell_type": "code",
   "execution_count": 67,
   "id": "dc643ad7-bf09-4a90-a759-c115dd9d2833",
   "metadata": {},
   "outputs": [
    {
     "name": "stdout",
     "output_type": "stream",
     "text": [
      "0\n"
     ]
    }
   ],
   "source": [
    "print(Y_test[3])"
   ]
  },
  {
   "cell_type": "code",
   "execution_count": null,
   "id": "c3fa3ebf-14b3-49d8-8b98-af1273f31e54",
   "metadata": {},
   "outputs": [],
   "source": []
  },
  {
   "cell_type": "code",
   "execution_count": null,
   "id": "8ee6aa6b-dbc1-4b4e-abb3-fa7ccfdf48d5",
   "metadata": {},
   "outputs": [],
   "source": []
  }
 ],
 "metadata": {
  "kernelspec": {
   "display_name": "Python 3 (ipykernel)",
   "language": "python",
   "name": "python3"
  },
  "language_info": {
   "codemirror_mode": {
    "name": "ipython",
    "version": 3
   },
   "file_extension": ".py",
   "mimetype": "text/x-python",
   "name": "python",
   "nbconvert_exporter": "python",
   "pygments_lexer": "ipython3",
   "version": "3.11.7"
  }
 },
 "nbformat": 4,
 "nbformat_minor": 5
}
